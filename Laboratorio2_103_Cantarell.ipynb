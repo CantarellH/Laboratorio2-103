{
  "cells": [
    {
      "cell_type": "markdown",
      "metadata": {
        "id": "view-in-github",
        "colab_type": "text"
      },
      "source": [
        "<a href=\"https://colab.research.google.com/github/CantarellH/Laboratorio2-103/blob/main/Laboratorio2_103_Cantarell.ipynb\" target=\"_parent\"><img src=\"https://colab.research.google.com/assets/colab-badge.svg\" alt=\"Open In Colab\"/></a>"
      ]
    },
    {
      "cell_type": "markdown",
      "metadata": {
        "id": "5hMHb1pX7ZXf"
      },
      "source": [
        "# Verificar la Lectura"
      ]
    },
    {
      "cell_type": "code",
      "execution_count": null,
      "metadata": {
        "id": "PadBVANC5YmZ"
      },
      "outputs": [],
      "source": [
        "from google.colab import drive\n",
        "drive.mount('/content/drive')\n",
        "import pandas as pd\n",
        "path = \"/content/drive/MyDrive/Conjunto de datos/atenciones_abogadas_de_las_mujeres (1).csv\"\n",
        "df = pd.read_csv (path)\n",
        "registros= df.shape[0]\n",
        "print (registros)"
      ]
    },
    {
      "cell_type": "markdown",
      "metadata": {
        "id": "w2GyWQ7B6bxH"
      },
      "source": [
        "# Funcion *INFO*"
      ]
    },
    {
      "cell_type": "code",
      "execution_count": null,
      "metadata": {
        "colab": {
          "base_uri": "https://localhost:8080/"
        },
        "id": "PRNaRpYu67if",
        "outputId": "ebd96b77-9b84-483f-9fa7-b9055a0a2f32"
      },
      "outputs": [
        {
          "name": "stderr",
          "output_type": "stream",
          "text": [
            "<ipython-input-7-b3bcd87bab06>:3: DtypeWarning: Columns (11,16,17,18) have mixed types. Specify dtype option on import or set low_memory=False.\n",
            "  df = pd.read_csv (path)\n"
          ]
        },
        {
          "name": "stdout",
          "output_type": "stream",
          "text": [
            "<class 'pandas.core.frame.DataFrame'>\n",
            "RangeIndex: 121995 entries, 0 to 121994\n",
            "Data columns (total 28 columns):\n",
            " #   Column                      Non-Null Count   Dtype  \n",
            "---  ------                      --------------   -----  \n",
            " 0   fecha                       121995 non-null  object \n",
            " 1   agencia                     120918 non-null  object \n",
            " 2   usuaria_sexo                121591 non-null  object \n",
            " 3   usuaria_nacionalidad        121641 non-null  object \n",
            " 4   usuaria_ent_fed_nacimiento  119967 non-null  object \n",
            " 5   usuaria_estado_civil        88051 non-null   object \n",
            " 6   usuaria_edad                120005 non-null  float64\n",
            " 7   usuaria_hijas               108979 non-null  float64\n",
            " 8   usuaria_hijos               102770 non-null  float64\n",
            " 9   usuaria_hijes               108646 non-null  float64\n",
            " 10  relacion_con_agresora       73933 non-null   object \n",
            " 11  agresora_ocupacion          42172 non-null   object \n",
            " 12  ci_iniciada                 99815 non-null   object \n",
            " 13  delito                      42187 non-null   object \n",
            " 14  representacion              116772 non-null  object \n",
            " 15  violencia_modalidad         107400 non-null  object \n",
            " 16  solicitud_medidas           40349 non-null   object \n",
            " 17  alto_riesgo                 52963 non-null   object \n",
            " 18  riesgo_feminicida           54000 non-null   object \n",
            " 19  vio_psicoemocional          121995 non-null  object \n",
            " 20  vio_fisica                  121995 non-null  object \n",
            " 21  vio_economica               121995 non-null  object \n",
            " 22  vio_patrimonial             121995 non-null  object \n",
            " 23  vio_sexual                  121995 non-null  object \n",
            " 24  vio_simbolica               121995 non-null  object \n",
            " 25  vio_obstetrica              121995 non-null  object \n",
            " 26  vio_reproductivos           121995 non-null  object \n",
            " 27  vio_feminicida              121995 non-null  object \n",
            "dtypes: float64(4), object(24)\n",
            "memory usage: 26.1+ MB\n"
          ]
        }
      ],
      "source": [
        "import pandas as pd\n",
        "path = \"/content/drive/MyDrive/Conjunto de datos/atenciones_abogadas_de_las_mujeres (1).csv\"\n",
        "df = pd.read_csv (path)\n",
        "df.info()"
      ]
    },
    {
      "cell_type": "markdown",
      "metadata": {
        "id": "3w_Rsbrh6_MH"
      },
      "source": [
        "#Funcion *TAIL*"
      ]
    },
    {
      "cell_type": "code",
      "execution_count": null,
      "metadata": {
        "colab": {
          "base_uri": "https://localhost:8080/",
          "height": 184
        },
        "id": "lG81Ybt47GNv",
        "outputId": "9e967300-60f9-4802-abe0-005e71cce7f3"
      },
      "outputs": [
        {
          "name": "stderr",
          "output_type": "stream",
          "text": [
            "<ipython-input-10-93bde36da386>:3: DtypeWarning: Columns (11,16,17,18) have mixed types. Specify dtype option on import or set low_memory=False.\n",
            "  df = pd.read_csv (path)\n"
          ]
        },
        {
          "data": {
            "text/html": [
              "\n",
              "  <div id=\"df-19841d8c-490f-484f-9766-f9a0049c5d76\" class=\"colab-df-container\">\n",
              "    <div>\n",
              "<style scoped>\n",
              "    .dataframe tbody tr th:only-of-type {\n",
              "        vertical-align: middle;\n",
              "    }\n",
              "\n",
              "    .dataframe tbody tr th {\n",
              "        vertical-align: top;\n",
              "    }\n",
              "\n",
              "    .dataframe thead th {\n",
              "        text-align: right;\n",
              "    }\n",
              "</style>\n",
              "<table border=\"1\" class=\"dataframe\">\n",
              "  <thead>\n",
              "    <tr style=\"text-align: right;\">\n",
              "      <th></th>\n",
              "      <th>fecha</th>\n",
              "      <th>agencia</th>\n",
              "      <th>usuaria_sexo</th>\n",
              "      <th>usuaria_nacionalidad</th>\n",
              "      <th>usuaria_ent_fed_nacimiento</th>\n",
              "      <th>usuaria_estado_civil</th>\n",
              "      <th>usuaria_edad</th>\n",
              "      <th>usuaria_hijas</th>\n",
              "      <th>usuaria_hijos</th>\n",
              "      <th>usuaria_hijes</th>\n",
              "      <th>...</th>\n",
              "      <th>riesgo_feminicida</th>\n",
              "      <th>vio_psicoemocional</th>\n",
              "      <th>vio_fisica</th>\n",
              "      <th>vio_economica</th>\n",
              "      <th>vio_patrimonial</th>\n",
              "      <th>vio_sexual</th>\n",
              "      <th>vio_simbolica</th>\n",
              "      <th>vio_obstetrica</th>\n",
              "      <th>vio_reproductivos</th>\n",
              "      <th>vio_feminicida</th>\n",
              "    </tr>\n",
              "  </thead>\n",
              "  <tbody>\n",
              "    <tr>\n",
              "      <th>121994</th>\n",
              "      <td>2022-03-01</td>\n",
              "      <td>COY-5</td>\n",
              "      <td>MUJER</td>\n",
              "      <td>MEXICANA</td>\n",
              "      <td>VERACRUZ DE IGNACIO DE LA LLAVE</td>\n",
              "      <td>SOLTERA(O)</td>\n",
              "      <td>31.0</td>\n",
              "      <td>0.0</td>\n",
              "      <td>0.0</td>\n",
              "      <td>0.0</td>\n",
              "      <td>...</td>\n",
              "      <td>NO</td>\n",
              "      <td>Sí</td>\n",
              "      <td>Sí</td>\n",
              "      <td>No</td>\n",
              "      <td>Sí</td>\n",
              "      <td>No</td>\n",
              "      <td>No</td>\n",
              "      <td>No</td>\n",
              "      <td>No</td>\n",
              "      <td>No</td>\n",
              "    </tr>\n",
              "  </tbody>\n",
              "</table>\n",
              "<p>1 rows × 28 columns</p>\n",
              "</div>\n",
              "    <div class=\"colab-df-buttons\">\n",
              "\n",
              "  <div class=\"colab-df-container\">\n",
              "    <button class=\"colab-df-convert\" onclick=\"convertToInteractive('df-19841d8c-490f-484f-9766-f9a0049c5d76')\"\n",
              "            title=\"Convert this dataframe to an interactive table.\"\n",
              "            style=\"display:none;\">\n",
              "\n",
              "  <svg xmlns=\"http://www.w3.org/2000/svg\" height=\"24px\" viewBox=\"0 -960 960 960\">\n",
              "    <path d=\"M120-120v-720h720v720H120Zm60-500h600v-160H180v160Zm220 220h160v-160H400v160Zm0 220h160v-160H400v160ZM180-400h160v-160H180v160Zm440 0h160v-160H620v160ZM180-180h160v-160H180v160Zm440 0h160v-160H620v160Z\"/>\n",
              "  </svg>\n",
              "    </button>\n",
              "\n",
              "  <style>\n",
              "    .colab-df-container {\n",
              "      display:flex;\n",
              "      gap: 12px;\n",
              "    }\n",
              "\n",
              "    .colab-df-convert {\n",
              "      background-color: #E8F0FE;\n",
              "      border: none;\n",
              "      border-radius: 50%;\n",
              "      cursor: pointer;\n",
              "      display: none;\n",
              "      fill: #1967D2;\n",
              "      height: 32px;\n",
              "      padding: 0 0 0 0;\n",
              "      width: 32px;\n",
              "    }\n",
              "\n",
              "    .colab-df-convert:hover {\n",
              "      background-color: #E2EBFA;\n",
              "      box-shadow: 0px 1px 2px rgba(60, 64, 67, 0.3), 0px 1px 3px 1px rgba(60, 64, 67, 0.15);\n",
              "      fill: #174EA6;\n",
              "    }\n",
              "\n",
              "    .colab-df-buttons div {\n",
              "      margin-bottom: 4px;\n",
              "    }\n",
              "\n",
              "    [theme=dark] .colab-df-convert {\n",
              "      background-color: #3B4455;\n",
              "      fill: #D2E3FC;\n",
              "    }\n",
              "\n",
              "    [theme=dark] .colab-df-convert:hover {\n",
              "      background-color: #434B5C;\n",
              "      box-shadow: 0px 1px 3px 1px rgba(0, 0, 0, 0.15);\n",
              "      filter: drop-shadow(0px 1px 2px rgba(0, 0, 0, 0.3));\n",
              "      fill: #FFFFFF;\n",
              "    }\n",
              "  </style>\n",
              "\n",
              "    <script>\n",
              "      const buttonEl =\n",
              "        document.querySelector('#df-19841d8c-490f-484f-9766-f9a0049c5d76 button.colab-df-convert');\n",
              "      buttonEl.style.display =\n",
              "        google.colab.kernel.accessAllowed ? 'block' : 'none';\n",
              "\n",
              "      async function convertToInteractive(key) {\n",
              "        const element = document.querySelector('#df-19841d8c-490f-484f-9766-f9a0049c5d76');\n",
              "        const dataTable =\n",
              "          await google.colab.kernel.invokeFunction('convertToInteractive',\n",
              "                                                    [key], {});\n",
              "        if (!dataTable) return;\n",
              "\n",
              "        const docLinkHtml = 'Like what you see? Visit the ' +\n",
              "          '<a target=\"_blank\" href=https://colab.research.google.com/notebooks/data_table.ipynb>data table notebook</a>'\n",
              "          + ' to learn more about interactive tables.';\n",
              "        element.innerHTML = '';\n",
              "        dataTable['output_type'] = 'display_data';\n",
              "        await google.colab.output.renderOutput(dataTable, element);\n",
              "        const docLink = document.createElement('div');\n",
              "        docLink.innerHTML = docLinkHtml;\n",
              "        element.appendChild(docLink);\n",
              "      }\n",
              "    </script>\n",
              "  </div>\n",
              "\n",
              "    </div>\n",
              "  </div>\n"
            ],
            "text/plain": [
              "             fecha agencia usuaria_sexo usuaria_nacionalidad  \\\n",
              "121994  2022-03-01   COY-5        MUJER             MEXICANA   \n",
              "\n",
              "             usuaria_ent_fed_nacimiento usuaria_estado_civil  usuaria_edad  \\\n",
              "121994  VERACRUZ DE IGNACIO DE LA LLAVE           SOLTERA(O)          31.0   \n",
              "\n",
              "        usuaria_hijas  usuaria_hijos  usuaria_hijes  ... riesgo_feminicida  \\\n",
              "121994            0.0            0.0            0.0  ...                NO   \n",
              "\n",
              "       vio_psicoemocional vio_fisica vio_economica vio_patrimonial vio_sexual  \\\n",
              "121994                 Sí         Sí            No              Sí         No   \n",
              "\n",
              "       vio_simbolica vio_obstetrica vio_reproductivos vio_feminicida  \n",
              "121994            No             No                No             No  \n",
              "\n",
              "[1 rows x 28 columns]"
            ]
          },
          "execution_count": 10,
          "metadata": {},
          "output_type": "execute_result"
        }
      ],
      "source": [
        "import pandas as pd\n",
        "path = \"/content/drive/MyDrive/Conjunto de datos/atenciones_abogadas_de_las_mujeres (1).csv\"\n",
        "df = pd.read_csv (path)\n",
        "df.tail(1)"
      ]
    },
    {
      "cell_type": "markdown",
      "metadata": {
        "id": "JYkrCaAU8AXX"
      },
      "source": [
        "# Obtener el Rango de fecha"
      ]
    },
    {
      "cell_type": "code",
      "execution_count": null,
      "metadata": {
        "colab": {
          "base_uri": "https://localhost:8080/"
        },
        "id": "Xb1Q2Bq_8Ga2",
        "outputId": "7cb610e7-11c0-4dc2-de30-958cb481e702"
      },
      "outputs": [
        {
          "name": "stdout",
          "output_type": "stream",
          "text": [
            "el rango de fecha es del 2019-03-01 00:00:00 al 2022-03-01 00:00:00\n"
          ]
        },
        {
          "name": "stderr",
          "output_type": "stream",
          "text": [
            "<ipython-input-21-7586f7a4b77c>:3: DtypeWarning: Columns (11,16,17,18) have mixed types. Specify dtype option on import or set low_memory=False.\n",
            "  df = pd.read_csv(path)\n"
          ]
        }
      ],
      "source": [
        "import pandas as pd\n",
        "path = \"/content/drive/MyDrive/Conjunto de datos/atenciones_abogadas_de_las_mujeres (1).csv\"\n",
        "df = pd.read_csv(path)\n",
        "df[\"fecha\"] = pd.to_datetime(df[\"fecha\"], format=\"%Y/%m/%d\")\n",
        "fecha_inicial = df[\"fecha\"].min()\n",
        "fecha_final = df[\"fecha\"].max()\n",
        "print (f\"el rango de fecha es del {fecha_inicial} al {fecha_final}\")"
      ]
    },
    {
      "cell_type": "markdown",
      "metadata": {
        "id": "TGSmsF1Q-GlP"
      },
      "source": [
        "# Obtener la media Aritmetica"
      ]
    },
    {
      "cell_type": "code",
      "execution_count": null,
      "metadata": {
        "colab": {
          "base_uri": "https://localhost:8080/"
        },
        "id": "7vDgrFsF-K4Q",
        "outputId": "10a81aff-7306-4b1c-e42c-fbdb912cb650"
      },
      "outputs": [
        {
          "name": "stdout",
          "output_type": "stream",
          "text": [
            "38.38658389233782\n"
          ]
        },
        {
          "name": "stderr",
          "output_type": "stream",
          "text": [
            "<ipython-input-24-337b7f1f18ad>:4: DtypeWarning: Columns (11,16,17,18) have mixed types. Specify dtype option on import or set low_memory=False.\n",
            "  df=pd.read_csv(path)\n"
          ]
        }
      ],
      "source": [
        "import pandas as pd\n",
        "import matplotlib.pyplot as plt\n",
        "path=\"/content/drive/MyDrive/Conjunto de datos/atenciones_abogadas_de_las_mujeres (1).csv\"\n",
        "df=pd.read_csv(path)\n",
        "media=df[\"usuaria_edad\"].mean()\n",
        "print(media)"
      ]
    },
    {
      "cell_type": "markdown",
      "metadata": {
        "id": "g35n8pGL-nDQ"
      },
      "source": [
        "# Obtener la Moda"
      ]
    },
    {
      "cell_type": "code",
      "execution_count": null,
      "metadata": {
        "colab": {
          "background_save": true
        },
        "id": "RHH974RE-ryY",
        "outputId": "053db43a-aea0-4059-bd31-8f701673f314"
      },
      "outputs": [
        {
          "name": "stdout",
          "output_type": "stream",
          "text": [
            "0    30.0\n",
            "Name: usuaria_edad, dtype: float64\n"
          ]
        },
        {
          "name": "stderr",
          "output_type": "stream",
          "text": [
            "<ipython-input-26-9bdf26a85c2b>:4: DtypeWarning: Columns (11,16,17,18) have mixed types. Specify dtype option on import or set low_memory=False.\n",
            "  df=pd.read_csv(path)\n"
          ]
        }
      ],
      "source": [
        "import pandas as pd\n",
        "import matplotlib.pyplot as plt\n",
        "path=\"/content/drive/MyDrive/Conjunto de datos/atenciones_abogadas_de_las_mujeres (1).csv\"\n",
        "df=pd.read_csv(path)\n",
        "moda=df[\"usuaria_edad\"].mode()\n",
        "print(moda)"
      ]
    }
  ],
  "metadata": {
    "colab": {
      "collapsed_sections": [
        "5hMHb1pX7ZXf",
        "w2GyWQ7B6bxH",
        "3w_Rsbrh6_MH",
        "JYkrCaAU8AXX",
        "TGSmsF1Q-GlP",
        "g35n8pGL-nDQ"
      ],
      "toc_visible": true,
      "provenance": [],
      "mount_file_id": "1h_Iy4s86E_fu-i0w-bO5jg8zahE4XSeG",
      "authorship_tag": "ABX9TyNS+U/uSBk/CFW1QavamVKH",
      "include_colab_link": true
    },
    "kernelspec": {
      "display_name": "Python 3",
      "name": "python3"
    },
    "language_info": {
      "name": "python"
    }
  },
  "nbformat": 4,
  "nbformat_minor": 0
}